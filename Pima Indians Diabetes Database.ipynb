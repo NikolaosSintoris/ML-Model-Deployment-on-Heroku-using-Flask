{
 "cells": [
  {
   "cell_type": "code",
   "execution_count": 1,
   "metadata": {},
   "outputs": [],
   "source": [
    "import pandas as pd\n",
    "import numpy as np\n",
    "import os\n",
    "import seaborn as sb\n",
    "from sklearn.model_selection import train_test_split\n",
    "from sklearn import svm\n",
    "from sklearn.metrics import accuracy_score\n",
    "from sklearn.metrics import f1_score\n",
    "from sklearn.model_selection import KFold"
   ]
  },
  {
   "cell_type": "markdown",
   "metadata": {},
   "source": [
    "# Data set"
   ]
  },
  {
   "cell_type": "markdown",
   "metadata": {},
   "source": [
    "The Pima Indians Diabetes Dataset involves predicting the onset of diabetes within 5 years in Pima Indians women given medical details.\n",
    "\n",
    "It is a binary (2-class) classification problem. The number of observations for each class is not balanced. There are 768 observations with 8 input variables and 1 output variable. Missing values are believed to be encoded with zero values. The variable names are as follows:\n",
    "\n",
    "1. Number of times pregnant.\n",
    "2. Plasma glucose concentration a 2 hours in an oral glucose tolerance test.\n",
    "3. Diastolic blood pressure (mm Hg).\n",
    "4. Triceps skinfold thickness (mm).\n",
    "5. 2-Hour serum insulin (mu U/ml).\n",
    "6. Body mass index (weight in kg/(height in m)^2).\n",
    "7. Diabetes pedigree function.\n",
    "8. Age (years).\n",
    "9. Class variable (0 or 1)."
   ]
  },
  {
   "cell_type": "markdown",
   "metadata": {},
   "source": [
    "Load csv file into a data frame"
   ]
  },
  {
   "cell_type": "code",
   "execution_count": 2,
   "metadata": {},
   "outputs": [
    {
     "name": "stdout",
     "output_type": "stream",
     "text": [
      "Current working directory:  C:\\Users\\plust\\OneDrive\\Desktop\\Jupyter Projects\\Data Glacier\\Pima Indians Diabetes\n"
     ]
    }
   ],
   "source": [
    "current_working_directory = os.getcwd()\n",
    "print(\"Current working directory: \", current_working_directory)"
   ]
  },
  {
   "cell_type": "code",
   "execution_count": 3,
   "metadata": {},
   "outputs": [
    {
     "data": {
      "text/html": [
       "<div>\n",
       "<style scoped>\n",
       "    .dataframe tbody tr th:only-of-type {\n",
       "        vertical-align: middle;\n",
       "    }\n",
       "\n",
       "    .dataframe tbody tr th {\n",
       "        vertical-align: top;\n",
       "    }\n",
       "\n",
       "    .dataframe thead th {\n",
       "        text-align: right;\n",
       "    }\n",
       "</style>\n",
       "<table border=\"1\" class=\"dataframe\">\n",
       "  <thead>\n",
       "    <tr style=\"text-align: right;\">\n",
       "      <th></th>\n",
       "      <th>times_pregnant</th>\n",
       "      <th>Plasma_glucose_concentration</th>\n",
       "      <th>Diastolic_blood_pressure</th>\n",
       "      <th>Triceps_skinfold_thickness</th>\n",
       "      <th>2h_serum_insulin</th>\n",
       "      <th>Body_mass_index</th>\n",
       "      <th>Diabetes_pedigree_function</th>\n",
       "      <th>Age</th>\n",
       "      <th>Class</th>\n",
       "    </tr>\n",
       "  </thead>\n",
       "  <tbody>\n",
       "    <tr>\n",
       "      <th>0</th>\n",
       "      <td>6</td>\n",
       "      <td>148</td>\n",
       "      <td>72</td>\n",
       "      <td>35</td>\n",
       "      <td>0</td>\n",
       "      <td>33.6</td>\n",
       "      <td>0.627</td>\n",
       "      <td>50</td>\n",
       "      <td>1</td>\n",
       "    </tr>\n",
       "    <tr>\n",
       "      <th>1</th>\n",
       "      <td>1</td>\n",
       "      <td>85</td>\n",
       "      <td>66</td>\n",
       "      <td>29</td>\n",
       "      <td>0</td>\n",
       "      <td>26.6</td>\n",
       "      <td>0.351</td>\n",
       "      <td>31</td>\n",
       "      <td>0</td>\n",
       "    </tr>\n",
       "    <tr>\n",
       "      <th>2</th>\n",
       "      <td>8</td>\n",
       "      <td>183</td>\n",
       "      <td>64</td>\n",
       "      <td>0</td>\n",
       "      <td>0</td>\n",
       "      <td>23.3</td>\n",
       "      <td>0.672</td>\n",
       "      <td>32</td>\n",
       "      <td>1</td>\n",
       "    </tr>\n",
       "    <tr>\n",
       "      <th>3</th>\n",
       "      <td>1</td>\n",
       "      <td>89</td>\n",
       "      <td>66</td>\n",
       "      <td>23</td>\n",
       "      <td>94</td>\n",
       "      <td>28.1</td>\n",
       "      <td>0.167</td>\n",
       "      <td>21</td>\n",
       "      <td>0</td>\n",
       "    </tr>\n",
       "    <tr>\n",
       "      <th>4</th>\n",
       "      <td>0</td>\n",
       "      <td>137</td>\n",
       "      <td>40</td>\n",
       "      <td>35</td>\n",
       "      <td>168</td>\n",
       "      <td>43.1</td>\n",
       "      <td>2.288</td>\n",
       "      <td>33</td>\n",
       "      <td>1</td>\n",
       "    </tr>\n",
       "    <tr>\n",
       "      <th>...</th>\n",
       "      <td>...</td>\n",
       "      <td>...</td>\n",
       "      <td>...</td>\n",
       "      <td>...</td>\n",
       "      <td>...</td>\n",
       "      <td>...</td>\n",
       "      <td>...</td>\n",
       "      <td>...</td>\n",
       "      <td>...</td>\n",
       "    </tr>\n",
       "    <tr>\n",
       "      <th>763</th>\n",
       "      <td>10</td>\n",
       "      <td>101</td>\n",
       "      <td>76</td>\n",
       "      <td>48</td>\n",
       "      <td>180</td>\n",
       "      <td>32.9</td>\n",
       "      <td>0.171</td>\n",
       "      <td>63</td>\n",
       "      <td>0</td>\n",
       "    </tr>\n",
       "    <tr>\n",
       "      <th>764</th>\n",
       "      <td>2</td>\n",
       "      <td>122</td>\n",
       "      <td>70</td>\n",
       "      <td>27</td>\n",
       "      <td>0</td>\n",
       "      <td>36.8</td>\n",
       "      <td>0.340</td>\n",
       "      <td>27</td>\n",
       "      <td>0</td>\n",
       "    </tr>\n",
       "    <tr>\n",
       "      <th>765</th>\n",
       "      <td>5</td>\n",
       "      <td>121</td>\n",
       "      <td>72</td>\n",
       "      <td>23</td>\n",
       "      <td>112</td>\n",
       "      <td>26.2</td>\n",
       "      <td>0.245</td>\n",
       "      <td>30</td>\n",
       "      <td>0</td>\n",
       "    </tr>\n",
       "    <tr>\n",
       "      <th>766</th>\n",
       "      <td>1</td>\n",
       "      <td>126</td>\n",
       "      <td>60</td>\n",
       "      <td>0</td>\n",
       "      <td>0</td>\n",
       "      <td>30.1</td>\n",
       "      <td>0.349</td>\n",
       "      <td>47</td>\n",
       "      <td>1</td>\n",
       "    </tr>\n",
       "    <tr>\n",
       "      <th>767</th>\n",
       "      <td>1</td>\n",
       "      <td>93</td>\n",
       "      <td>70</td>\n",
       "      <td>31</td>\n",
       "      <td>0</td>\n",
       "      <td>30.4</td>\n",
       "      <td>0.315</td>\n",
       "      <td>23</td>\n",
       "      <td>0</td>\n",
       "    </tr>\n",
       "  </tbody>\n",
       "</table>\n",
       "<p>768 rows × 9 columns</p>\n",
       "</div>"
      ],
      "text/plain": [
       "     times_pregnant  Plasma_glucose_concentration  Diastolic_blood_pressure  \\\n",
       "0                 6                           148                        72   \n",
       "1                 1                            85                        66   \n",
       "2                 8                           183                        64   \n",
       "3                 1                            89                        66   \n",
       "4                 0                           137                        40   \n",
       "..              ...                           ...                       ...   \n",
       "763              10                           101                        76   \n",
       "764               2                           122                        70   \n",
       "765               5                           121                        72   \n",
       "766               1                           126                        60   \n",
       "767               1                            93                        70   \n",
       "\n",
       "     Triceps_skinfold_thickness  2h_serum_insulin  Body_mass_index  \\\n",
       "0                            35                 0             33.6   \n",
       "1                            29                 0             26.6   \n",
       "2                             0                 0             23.3   \n",
       "3                            23                94             28.1   \n",
       "4                            35               168             43.1   \n",
       "..                          ...               ...              ...   \n",
       "763                          48               180             32.9   \n",
       "764                          27                 0             36.8   \n",
       "765                          23               112             26.2   \n",
       "766                           0                 0             30.1   \n",
       "767                          31                 0             30.4   \n",
       "\n",
       "     Diabetes_pedigree_function  Age  Class  \n",
       "0                         0.627   50      1  \n",
       "1                         0.351   31      0  \n",
       "2                         0.672   32      1  \n",
       "3                         0.167   21      0  \n",
       "4                         2.288   33      1  \n",
       "..                          ...  ...    ...  \n",
       "763                       0.171   63      0  \n",
       "764                       0.340   27      0  \n",
       "765                       0.245   30      0  \n",
       "766                       0.349   47      1  \n",
       "767                       0.315   23      0  \n",
       "\n",
       "[768 rows x 9 columns]"
      ]
     },
     "execution_count": 3,
     "metadata": {},
     "output_type": "execute_result"
    }
   ],
   "source": [
    "file_name = \"pima-indians-diabetes.csv\"\n",
    "header_names = [\"times_pregnant\", \"Plasma_glucose_concentration\", \"Diastolic_blood_pressure\", \"Triceps_skinfold_thickness\", \"2h_serum_insulin\", \"Body_mass_index\", \"Diabetes_pedigree_function\", \"Age\", \"Class\"]\n",
    "data_frame = pd.read_csv(current_working_directory + \"\\\\\" + file_name, names = header_names) \n",
    "data_frame"
   ]
  },
  {
   "cell_type": "markdown",
   "metadata": {},
   "source": [
    "# Data Pre-processing"
   ]
  },
  {
   "cell_type": "markdown",
   "metadata": {},
   "source": [
    "#### Data Types"
   ]
  },
  {
   "cell_type": "code",
   "execution_count": 4,
   "metadata": {},
   "outputs": [
    {
     "data": {
      "text/html": [
       "<div>\n",
       "<style scoped>\n",
       "    .dataframe tbody tr th:only-of-type {\n",
       "        vertical-align: middle;\n",
       "    }\n",
       "\n",
       "    .dataframe tbody tr th {\n",
       "        vertical-align: top;\n",
       "    }\n",
       "\n",
       "    .dataframe thead th {\n",
       "        text-align: right;\n",
       "    }\n",
       "</style>\n",
       "<table border=\"1\" class=\"dataframe\">\n",
       "  <thead>\n",
       "    <tr style=\"text-align: right;\">\n",
       "      <th></th>\n",
       "      <th>times_pregnant</th>\n",
       "      <th>Plasma_glucose_concentration</th>\n",
       "      <th>Diastolic_blood_pressure</th>\n",
       "      <th>Triceps_skinfold_thickness</th>\n",
       "      <th>2h_serum_insulin</th>\n",
       "      <th>Body_mass_index</th>\n",
       "      <th>Diabetes_pedigree_function</th>\n",
       "      <th>Age</th>\n",
       "      <th>Class</th>\n",
       "    </tr>\n",
       "  </thead>\n",
       "  <tbody>\n",
       "    <tr>\n",
       "      <th>count</th>\n",
       "      <td>768.000000</td>\n",
       "      <td>768.000000</td>\n",
       "      <td>768.000000</td>\n",
       "      <td>768.000000</td>\n",
       "      <td>768.000000</td>\n",
       "      <td>768.000000</td>\n",
       "      <td>768.000000</td>\n",
       "      <td>768.000000</td>\n",
       "      <td>768.000000</td>\n",
       "    </tr>\n",
       "    <tr>\n",
       "      <th>mean</th>\n",
       "      <td>3.845052</td>\n",
       "      <td>120.894531</td>\n",
       "      <td>69.105469</td>\n",
       "      <td>20.536458</td>\n",
       "      <td>79.799479</td>\n",
       "      <td>31.992578</td>\n",
       "      <td>0.471876</td>\n",
       "      <td>33.240885</td>\n",
       "      <td>0.348958</td>\n",
       "    </tr>\n",
       "    <tr>\n",
       "      <th>std</th>\n",
       "      <td>3.369578</td>\n",
       "      <td>31.972618</td>\n",
       "      <td>19.355807</td>\n",
       "      <td>15.952218</td>\n",
       "      <td>115.244002</td>\n",
       "      <td>7.884160</td>\n",
       "      <td>0.331329</td>\n",
       "      <td>11.760232</td>\n",
       "      <td>0.476951</td>\n",
       "    </tr>\n",
       "    <tr>\n",
       "      <th>min</th>\n",
       "      <td>0.000000</td>\n",
       "      <td>0.000000</td>\n",
       "      <td>0.000000</td>\n",
       "      <td>0.000000</td>\n",
       "      <td>0.000000</td>\n",
       "      <td>0.000000</td>\n",
       "      <td>0.078000</td>\n",
       "      <td>21.000000</td>\n",
       "      <td>0.000000</td>\n",
       "    </tr>\n",
       "    <tr>\n",
       "      <th>25%</th>\n",
       "      <td>1.000000</td>\n",
       "      <td>99.000000</td>\n",
       "      <td>62.000000</td>\n",
       "      <td>0.000000</td>\n",
       "      <td>0.000000</td>\n",
       "      <td>27.300000</td>\n",
       "      <td>0.243750</td>\n",
       "      <td>24.000000</td>\n",
       "      <td>0.000000</td>\n",
       "    </tr>\n",
       "    <tr>\n",
       "      <th>50%</th>\n",
       "      <td>3.000000</td>\n",
       "      <td>117.000000</td>\n",
       "      <td>72.000000</td>\n",
       "      <td>23.000000</td>\n",
       "      <td>30.500000</td>\n",
       "      <td>32.000000</td>\n",
       "      <td>0.372500</td>\n",
       "      <td>29.000000</td>\n",
       "      <td>0.000000</td>\n",
       "    </tr>\n",
       "    <tr>\n",
       "      <th>75%</th>\n",
       "      <td>6.000000</td>\n",
       "      <td>140.250000</td>\n",
       "      <td>80.000000</td>\n",
       "      <td>32.000000</td>\n",
       "      <td>127.250000</td>\n",
       "      <td>36.600000</td>\n",
       "      <td>0.626250</td>\n",
       "      <td>41.000000</td>\n",
       "      <td>1.000000</td>\n",
       "    </tr>\n",
       "    <tr>\n",
       "      <th>max</th>\n",
       "      <td>17.000000</td>\n",
       "      <td>199.000000</td>\n",
       "      <td>122.000000</td>\n",
       "      <td>99.000000</td>\n",
       "      <td>846.000000</td>\n",
       "      <td>67.100000</td>\n",
       "      <td>2.420000</td>\n",
       "      <td>81.000000</td>\n",
       "      <td>1.000000</td>\n",
       "    </tr>\n",
       "  </tbody>\n",
       "</table>\n",
       "</div>"
      ],
      "text/plain": [
       "       times_pregnant  Plasma_glucose_concentration  Diastolic_blood_pressure  \\\n",
       "count      768.000000                    768.000000                768.000000   \n",
       "mean         3.845052                    120.894531                 69.105469   \n",
       "std          3.369578                     31.972618                 19.355807   \n",
       "min          0.000000                      0.000000                  0.000000   \n",
       "25%          1.000000                     99.000000                 62.000000   \n",
       "50%          3.000000                    117.000000                 72.000000   \n",
       "75%          6.000000                    140.250000                 80.000000   \n",
       "max         17.000000                    199.000000                122.000000   \n",
       "\n",
       "       Triceps_skinfold_thickness  2h_serum_insulin  Body_mass_index  \\\n",
       "count                  768.000000        768.000000       768.000000   \n",
       "mean                    20.536458         79.799479        31.992578   \n",
       "std                     15.952218        115.244002         7.884160   \n",
       "min                      0.000000          0.000000         0.000000   \n",
       "25%                      0.000000          0.000000        27.300000   \n",
       "50%                     23.000000         30.500000        32.000000   \n",
       "75%                     32.000000        127.250000        36.600000   \n",
       "max                     99.000000        846.000000        67.100000   \n",
       "\n",
       "       Diabetes_pedigree_function         Age       Class  \n",
       "count                  768.000000  768.000000  768.000000  \n",
       "mean                     0.471876   33.240885    0.348958  \n",
       "std                      0.331329   11.760232    0.476951  \n",
       "min                      0.078000   21.000000    0.000000  \n",
       "25%                      0.243750   24.000000    0.000000  \n",
       "50%                      0.372500   29.000000    0.000000  \n",
       "75%                      0.626250   41.000000    1.000000  \n",
       "max                      2.420000   81.000000    1.000000  "
      ]
     },
     "execution_count": 4,
     "metadata": {},
     "output_type": "execute_result"
    }
   ],
   "source": [
    "data_frame.describe()"
   ]
  },
  {
   "cell_type": "code",
   "execution_count": 5,
   "metadata": {},
   "outputs": [
    {
     "data": {
      "text/plain": [
       "times_pregnant                    int64\n",
       "Plasma_glucose_concentration      int64\n",
       "Diastolic_blood_pressure          int64\n",
       "Triceps_skinfold_thickness        int64\n",
       "2h_serum_insulin                  int64\n",
       "Body_mass_index                 float64\n",
       "Diabetes_pedigree_function      float64\n",
       "Age                               int64\n",
       "Class                             int64\n",
       "dtype: object"
      ]
     },
     "execution_count": 5,
     "metadata": {},
     "output_type": "execute_result"
    }
   ],
   "source": [
    "data_frame.dtypes"
   ]
  },
  {
   "cell_type": "markdown",
   "metadata": {},
   "source": [
    "The attributes have correct data type"
   ]
  },
  {
   "cell_type": "code",
   "execution_count": 6,
   "metadata": {},
   "outputs": [
    {
     "name": "stdout",
     "output_type": "stream",
     "text": [
      "<class 'pandas.core.frame.DataFrame'>\n",
      "RangeIndex: 768 entries, 0 to 767\n",
      "Data columns (total 9 columns):\n",
      " #   Column                        Non-Null Count  Dtype  \n",
      "---  ------                        --------------  -----  \n",
      " 0   times_pregnant                768 non-null    int64  \n",
      " 1   Plasma_glucose_concentration  768 non-null    int64  \n",
      " 2   Diastolic_blood_pressure      768 non-null    int64  \n",
      " 3   Triceps_skinfold_thickness    768 non-null    int64  \n",
      " 4   2h_serum_insulin              768 non-null    int64  \n",
      " 5   Body_mass_index               768 non-null    float64\n",
      " 6   Diabetes_pedigree_function    768 non-null    float64\n",
      " 7   Age                           768 non-null    int64  \n",
      " 8   Class                         768 non-null    int64  \n",
      "dtypes: float64(2), int64(7)\n",
      "memory usage: 54.1 KB\n"
     ]
    }
   ],
   "source": [
    "data_frame.info()"
   ]
  },
  {
   "cell_type": "markdown",
   "metadata": {},
   "source": [
    "#### Missing Values"
   ]
  },
  {
   "cell_type": "markdown",
   "metadata": {},
   "source": [
    "We know that there are missing values in the form of zero. So we are going to find out hoe many missing values every attribute has in order to decide how to deal with them.\n",
    "\n",
    "After a Google search that I did, the attributes that should not have a 0 value are: Plasma_glucose_concentration, Diastolic_blood_pressure, Triceps_skinfold_thickness\t, 2h_serum_insulin, Body_mass_index."
   ]
  },
  {
   "cell_type": "code",
   "execution_count": 7,
   "metadata": {},
   "outputs": [
    {
     "data": {
      "text/html": [
       "<div>\n",
       "<style scoped>\n",
       "    .dataframe tbody tr th:only-of-type {\n",
       "        vertical-align: middle;\n",
       "    }\n",
       "\n",
       "    .dataframe tbody tr th {\n",
       "        vertical-align: top;\n",
       "    }\n",
       "\n",
       "    .dataframe thead th {\n",
       "        text-align: right;\n",
       "    }\n",
       "</style>\n",
       "<table border=\"1\" class=\"dataframe\">\n",
       "  <thead>\n",
       "    <tr style=\"text-align: right;\">\n",
       "      <th></th>\n",
       "      <th>Attribute</th>\n",
       "      <th># of missing values</th>\n",
       "    </tr>\n",
       "  </thead>\n",
       "  <tbody>\n",
       "    <tr>\n",
       "      <th>0</th>\n",
       "      <td>Plasma_glucose_concentration</td>\n",
       "      <td>5</td>\n",
       "    </tr>\n",
       "    <tr>\n",
       "      <th>1</th>\n",
       "      <td>Diastolic_blood_pressure</td>\n",
       "      <td>35</td>\n",
       "    </tr>\n",
       "    <tr>\n",
       "      <th>2</th>\n",
       "      <td>Triceps_skinfold_thickness</td>\n",
       "      <td>227</td>\n",
       "    </tr>\n",
       "    <tr>\n",
       "      <th>3</th>\n",
       "      <td>2h_serum_insulin</td>\n",
       "      <td>374</td>\n",
       "    </tr>\n",
       "    <tr>\n",
       "      <th>4</th>\n",
       "      <td>Body_mass_index</td>\n",
       "      <td>11</td>\n",
       "    </tr>\n",
       "  </tbody>\n",
       "</table>\n",
       "</div>"
      ],
      "text/plain": [
       "                      Attribute  # of missing values\n",
       "0  Plasma_glucose_concentration                    5\n",
       "1      Diastolic_blood_pressure                   35\n",
       "2    Triceps_skinfold_thickness                  227\n",
       "3              2h_serum_insulin                  374\n",
       "4               Body_mass_index                   11"
      ]
     },
     "execution_count": 7,
     "metadata": {},
     "output_type": "execute_result"
    }
   ],
   "source": [
    "attributes_with_missing_values = [\"Plasma_glucose_concentration\", \"Diastolic_blood_pressure\", \"Triceps_skinfold_thickness\", \"2h_serum_insulin\", \"Body_mass_index\"]\n",
    "number_of_missing_values = []\n",
    "for index in range(5):\n",
    "    number_of_missing_values.append(data_frame[attributes_with_missing_values[index]].value_counts()[0])\n",
    "\n",
    "missing_values_dict = {\n",
    "    \"Attribute\": attributes_with_missing_values,\n",
    "    \"# of missing values\": number_of_missing_values\n",
    "}\n",
    "missing_values_data_frame = pd.DataFrame(missing_values_dict)\n",
    "missing_values_data_frame"
   ]
  },
  {
   "cell_type": "markdown",
   "metadata": {},
   "source": [
    "We have 768 total observations. For Plasma_glucose_concentration and Body_mass_index we can delete the rows with missing values because there are not a lot. But for Diastolic_blood_pressure, Triceps_skinfold_thickness, 2h_serum_insulin, we have a lot of missing values so we are going to replace the missing value with the mean value  of the attribute."
   ]
  },
  {
   "cell_type": "code",
   "execution_count": 8,
   "metadata": {},
   "outputs": [
    {
     "data": {
      "text/plain": [
       "(763, 9)"
      ]
     },
     "execution_count": 8,
     "metadata": {},
     "output_type": "execute_result"
    }
   ],
   "source": [
    "# Delete the rows that have 0 in the Plasma_glucose_concentration column\n",
    "data_frame = data_frame[data_frame.Plasma_glucose_concentration != 0]\n",
    "data_frame.shape"
   ]
  },
  {
   "cell_type": "code",
   "execution_count": 9,
   "metadata": {},
   "outputs": [
    {
     "data": {
      "text/plain": [
       "(752, 9)"
      ]
     },
     "execution_count": 9,
     "metadata": {},
     "output_type": "execute_result"
    }
   ],
   "source": [
    "# Delete the rows that have 0 in the Body_mass_index column\n",
    "data_frame = data_frame[data_frame.Body_mass_index != 0]\n",
    "data_frame.shape"
   ]
  },
  {
   "cell_type": "code",
   "execution_count": 10,
   "metadata": {},
   "outputs": [],
   "source": [
    "attributes_names = [\"Diastolic_blood_pressure\", \"Triceps_skinfold_thickness\", \"2h_serum_insulin\"]\n",
    "for attribute_name in attributes_names:\n",
    "    mean_value = data_frame[attribute_name].mean()\n",
    "    data_frame[attribute_name].replace(0, mean_value, inplace = True)"
   ]
  },
  {
   "cell_type": "code",
   "execution_count": 11,
   "metadata": {},
   "outputs": [
    {
     "data": {
      "text/html": [
       "<div>\n",
       "<style scoped>\n",
       "    .dataframe tbody tr th:only-of-type {\n",
       "        vertical-align: middle;\n",
       "    }\n",
       "\n",
       "    .dataframe tbody tr th {\n",
       "        vertical-align: top;\n",
       "    }\n",
       "\n",
       "    .dataframe thead th {\n",
       "        text-align: right;\n",
       "    }\n",
       "</style>\n",
       "<table border=\"1\" class=\"dataframe\">\n",
       "  <thead>\n",
       "    <tr style=\"text-align: right;\">\n",
       "      <th></th>\n",
       "      <th>times_pregnant</th>\n",
       "      <th>Plasma_glucose_concentration</th>\n",
       "      <th>Diastolic_blood_pressure</th>\n",
       "      <th>Triceps_skinfold_thickness</th>\n",
       "      <th>2h_serum_insulin</th>\n",
       "      <th>Body_mass_index</th>\n",
       "      <th>Diabetes_pedigree_function</th>\n",
       "      <th>Age</th>\n",
       "      <th>Class</th>\n",
       "    </tr>\n",
       "  </thead>\n",
       "  <tbody>\n",
       "    <tr>\n",
       "      <th>count</th>\n",
       "      <td>752.000000</td>\n",
       "      <td>752.000000</td>\n",
       "      <td>752.000000</td>\n",
       "      <td>752.000000</td>\n",
       "      <td>752.000000</td>\n",
       "      <td>752.000000</td>\n",
       "      <td>752.000000</td>\n",
       "      <td>752.000000</td>\n",
       "      <td>752.000000</td>\n",
       "    </tr>\n",
       "    <tr>\n",
       "      <th>mean</th>\n",
       "      <td>3.851064</td>\n",
       "      <td>121.941489</td>\n",
       "      <td>72.300178</td>\n",
       "      <td>26.720695</td>\n",
       "      <td>120.291789</td>\n",
       "      <td>32.454654</td>\n",
       "      <td>0.473051</td>\n",
       "      <td>33.312500</td>\n",
       "      <td>0.351064</td>\n",
       "    </tr>\n",
       "    <tr>\n",
       "      <th>std</th>\n",
       "      <td>3.375189</td>\n",
       "      <td>30.601198</td>\n",
       "      <td>12.157628</td>\n",
       "      <td>9.648926</td>\n",
       "      <td>93.529708</td>\n",
       "      <td>6.928926</td>\n",
       "      <td>0.330108</td>\n",
       "      <td>11.709395</td>\n",
       "      <td>0.477621</td>\n",
       "    </tr>\n",
       "    <tr>\n",
       "      <th>min</th>\n",
       "      <td>0.000000</td>\n",
       "      <td>44.000000</td>\n",
       "      <td>24.000000</td>\n",
       "      <td>7.000000</td>\n",
       "      <td>14.000000</td>\n",
       "      <td>18.200000</td>\n",
       "      <td>0.078000</td>\n",
       "      <td>21.000000</td>\n",
       "      <td>0.000000</td>\n",
       "    </tr>\n",
       "    <tr>\n",
       "      <th>25%</th>\n",
       "      <td>1.000000</td>\n",
       "      <td>99.750000</td>\n",
       "      <td>64.000000</td>\n",
       "      <td>20.715426</td>\n",
       "      <td>81.348404</td>\n",
       "      <td>27.500000</td>\n",
       "      <td>0.244000</td>\n",
       "      <td>24.000000</td>\n",
       "      <td>0.000000</td>\n",
       "    </tr>\n",
       "    <tr>\n",
       "      <th>50%</th>\n",
       "      <td>3.000000</td>\n",
       "      <td>117.000000</td>\n",
       "      <td>72.000000</td>\n",
       "      <td>23.000000</td>\n",
       "      <td>81.348404</td>\n",
       "      <td>32.300000</td>\n",
       "      <td>0.377000</td>\n",
       "      <td>29.000000</td>\n",
       "      <td>0.000000</td>\n",
       "    </tr>\n",
       "    <tr>\n",
       "      <th>75%</th>\n",
       "      <td>6.000000</td>\n",
       "      <td>141.000000</td>\n",
       "      <td>80.000000</td>\n",
       "      <td>32.000000</td>\n",
       "      <td>130.000000</td>\n",
       "      <td>36.600000</td>\n",
       "      <td>0.627500</td>\n",
       "      <td>41.000000</td>\n",
       "      <td>1.000000</td>\n",
       "    </tr>\n",
       "    <tr>\n",
       "      <th>max</th>\n",
       "      <td>17.000000</td>\n",
       "      <td>199.000000</td>\n",
       "      <td>122.000000</td>\n",
       "      <td>99.000000</td>\n",
       "      <td>846.000000</td>\n",
       "      <td>67.100000</td>\n",
       "      <td>2.420000</td>\n",
       "      <td>81.000000</td>\n",
       "      <td>1.000000</td>\n",
       "    </tr>\n",
       "  </tbody>\n",
       "</table>\n",
       "</div>"
      ],
      "text/plain": [
       "       times_pregnant  Plasma_glucose_concentration  Diastolic_blood_pressure  \\\n",
       "count      752.000000                    752.000000                752.000000   \n",
       "mean         3.851064                    121.941489                 72.300178   \n",
       "std          3.375189                     30.601198                 12.157628   \n",
       "min          0.000000                     44.000000                 24.000000   \n",
       "25%          1.000000                     99.750000                 64.000000   \n",
       "50%          3.000000                    117.000000                 72.000000   \n",
       "75%          6.000000                    141.000000                 80.000000   \n",
       "max         17.000000                    199.000000                122.000000   \n",
       "\n",
       "       Triceps_skinfold_thickness  2h_serum_insulin  Body_mass_index  \\\n",
       "count                  752.000000        752.000000       752.000000   \n",
       "mean                    26.720695        120.291789        32.454654   \n",
       "std                      9.648926         93.529708         6.928926   \n",
       "min                      7.000000         14.000000        18.200000   \n",
       "25%                     20.715426         81.348404        27.500000   \n",
       "50%                     23.000000         81.348404        32.300000   \n",
       "75%                     32.000000        130.000000        36.600000   \n",
       "max                     99.000000        846.000000        67.100000   \n",
       "\n",
       "       Diabetes_pedigree_function         Age       Class  \n",
       "count                  752.000000  752.000000  752.000000  \n",
       "mean                     0.473051   33.312500    0.351064  \n",
       "std                      0.330108   11.709395    0.477621  \n",
       "min                      0.078000   21.000000    0.000000  \n",
       "25%                      0.244000   24.000000    0.000000  \n",
       "50%                      0.377000   29.000000    0.000000  \n",
       "75%                      0.627500   41.000000    1.000000  \n",
       "max                      2.420000   81.000000    1.000000  "
      ]
     },
     "execution_count": 11,
     "metadata": {},
     "output_type": "execute_result"
    }
   ],
   "source": [
    "data_frame.describe()"
   ]
  },
  {
   "cell_type": "markdown",
   "metadata": {},
   "source": [
    "We can see that there are no longer missing values in our data."
   ]
  },
  {
   "cell_type": "markdown",
   "metadata": {},
   "source": [
    "#### Correlation"
   ]
  },
  {
   "cell_type": "markdown",
   "metadata": {},
   "source": [
    "We are going to look into the correlation that attributes have. We are interested in the correlation that the Class attribute has with the other attributes and we want to know which of them has the most strong correlation."
   ]
  },
  {
   "cell_type": "markdown",
   "metadata": {},
   "source": [
    "First we create a pearson correlation matrix."
   ]
  },
  {
   "cell_type": "code",
   "execution_count": 12,
   "metadata": {},
   "outputs": [
    {
     "data": {
      "text/html": [
       "<div>\n",
       "<style scoped>\n",
       "    .dataframe tbody tr th:only-of-type {\n",
       "        vertical-align: middle;\n",
       "    }\n",
       "\n",
       "    .dataframe tbody tr th {\n",
       "        vertical-align: top;\n",
       "    }\n",
       "\n",
       "    .dataframe thead th {\n",
       "        text-align: right;\n",
       "    }\n",
       "</style>\n",
       "<table border=\"1\" class=\"dataframe\">\n",
       "  <thead>\n",
       "    <tr style=\"text-align: right;\">\n",
       "      <th></th>\n",
       "      <th>times_pregnant</th>\n",
       "      <th>Plasma_glucose_concentration</th>\n",
       "      <th>Diastolic_blood_pressure</th>\n",
       "      <th>Triceps_skinfold_thickness</th>\n",
       "      <th>2h_serum_insulin</th>\n",
       "      <th>Body_mass_index</th>\n",
       "      <th>Diabetes_pedigree_function</th>\n",
       "      <th>Age</th>\n",
       "      <th>Class</th>\n",
       "    </tr>\n",
       "  </thead>\n",
       "  <tbody>\n",
       "    <tr>\n",
       "      <th>times_pregnant</th>\n",
       "      <td>1.000000</td>\n",
       "      <td>0.125717</td>\n",
       "      <td>0.205734</td>\n",
       "      <td>0.013715</td>\n",
       "      <td>-0.018230</td>\n",
       "      <td>0.018352</td>\n",
       "      <td>-0.029159</td>\n",
       "      <td>0.545238</td>\n",
       "      <td>0.213371</td>\n",
       "    </tr>\n",
       "    <tr>\n",
       "      <th>Plasma_glucose_concentration</th>\n",
       "      <td>0.125717</td>\n",
       "      <td>1.000000</td>\n",
       "      <td>0.219588</td>\n",
       "      <td>0.158435</td>\n",
       "      <td>0.397111</td>\n",
       "      <td>0.232771</td>\n",
       "      <td>0.133945</td>\n",
       "      <td>0.261490</td>\n",
       "      <td>0.494190</td>\n",
       "    </tr>\n",
       "    <tr>\n",
       "      <th>Diastolic_blood_pressure</th>\n",
       "      <td>0.205734</td>\n",
       "      <td>0.219588</td>\n",
       "      <td>1.000000</td>\n",
       "      <td>0.135565</td>\n",
       "      <td>0.010848</td>\n",
       "      <td>0.280505</td>\n",
       "      <td>0.001036</td>\n",
       "      <td>0.320725</td>\n",
       "      <td>0.159447</td>\n",
       "    </tr>\n",
       "    <tr>\n",
       "      <th>Triceps_skinfold_thickness</th>\n",
       "      <td>0.013715</td>\n",
       "      <td>0.158435</td>\n",
       "      <td>0.135565</td>\n",
       "      <td>1.000000</td>\n",
       "      <td>0.236140</td>\n",
       "      <td>0.536120</td>\n",
       "      <td>0.152481</td>\n",
       "      <td>0.025161</td>\n",
       "      <td>0.171703</td>\n",
       "    </tr>\n",
       "    <tr>\n",
       "      <th>2h_serum_insulin</th>\n",
       "      <td>-0.018230</td>\n",
       "      <td>0.397111</td>\n",
       "      <td>0.010848</td>\n",
       "      <td>0.236140</td>\n",
       "      <td>1.000000</td>\n",
       "      <td>0.189907</td>\n",
       "      <td>0.157240</td>\n",
       "      <td>0.037952</td>\n",
       "      <td>0.179849</td>\n",
       "    </tr>\n",
       "    <tr>\n",
       "      <th>Body_mass_index</th>\n",
       "      <td>0.018352</td>\n",
       "      <td>0.232771</td>\n",
       "      <td>0.280505</td>\n",
       "      <td>0.536120</td>\n",
       "      <td>0.189907</td>\n",
       "      <td>1.000000</td>\n",
       "      <td>0.153683</td>\n",
       "      <td>0.022144</td>\n",
       "      <td>0.309884</td>\n",
       "    </tr>\n",
       "    <tr>\n",
       "      <th>Diabetes_pedigree_function</th>\n",
       "      <td>-0.029159</td>\n",
       "      <td>0.133945</td>\n",
       "      <td>0.001036</td>\n",
       "      <td>0.152481</td>\n",
       "      <td>0.157240</td>\n",
       "      <td>0.153683</td>\n",
       "      <td>1.000000</td>\n",
       "      <td>0.031674</td>\n",
       "      <td>0.178052</td>\n",
       "    </tr>\n",
       "    <tr>\n",
       "      <th>Age</th>\n",
       "      <td>0.545238</td>\n",
       "      <td>0.261490</td>\n",
       "      <td>0.320725</td>\n",
       "      <td>0.025161</td>\n",
       "      <td>0.037952</td>\n",
       "      <td>0.022144</td>\n",
       "      <td>0.031674</td>\n",
       "      <td>1.000000</td>\n",
       "      <td>0.232734</td>\n",
       "    </tr>\n",
       "    <tr>\n",
       "      <th>Class</th>\n",
       "      <td>0.213371</td>\n",
       "      <td>0.494190</td>\n",
       "      <td>0.159447</td>\n",
       "      <td>0.171703</td>\n",
       "      <td>0.179849</td>\n",
       "      <td>0.309884</td>\n",
       "      <td>0.178052</td>\n",
       "      <td>0.232734</td>\n",
       "      <td>1.000000</td>\n",
       "    </tr>\n",
       "  </tbody>\n",
       "</table>\n",
       "</div>"
      ],
      "text/plain": [
       "                              times_pregnant  Plasma_glucose_concentration  \\\n",
       "times_pregnant                      1.000000                      0.125717   \n",
       "Plasma_glucose_concentration        0.125717                      1.000000   \n",
       "Diastolic_blood_pressure            0.205734                      0.219588   \n",
       "Triceps_skinfold_thickness          0.013715                      0.158435   \n",
       "2h_serum_insulin                   -0.018230                      0.397111   \n",
       "Body_mass_index                     0.018352                      0.232771   \n",
       "Diabetes_pedigree_function         -0.029159                      0.133945   \n",
       "Age                                 0.545238                      0.261490   \n",
       "Class                               0.213371                      0.494190   \n",
       "\n",
       "                              Diastolic_blood_pressure  \\\n",
       "times_pregnant                                0.205734   \n",
       "Plasma_glucose_concentration                  0.219588   \n",
       "Diastolic_blood_pressure                      1.000000   \n",
       "Triceps_skinfold_thickness                    0.135565   \n",
       "2h_serum_insulin                              0.010848   \n",
       "Body_mass_index                               0.280505   \n",
       "Diabetes_pedigree_function                    0.001036   \n",
       "Age                                           0.320725   \n",
       "Class                                         0.159447   \n",
       "\n",
       "                              Triceps_skinfold_thickness  2h_serum_insulin  \\\n",
       "times_pregnant                                  0.013715         -0.018230   \n",
       "Plasma_glucose_concentration                    0.158435          0.397111   \n",
       "Diastolic_blood_pressure                        0.135565          0.010848   \n",
       "Triceps_skinfold_thickness                      1.000000          0.236140   \n",
       "2h_serum_insulin                                0.236140          1.000000   \n",
       "Body_mass_index                                 0.536120          0.189907   \n",
       "Diabetes_pedigree_function                      0.152481          0.157240   \n",
       "Age                                             0.025161          0.037952   \n",
       "Class                                           0.171703          0.179849   \n",
       "\n",
       "                              Body_mass_index  Diabetes_pedigree_function  \\\n",
       "times_pregnant                       0.018352                   -0.029159   \n",
       "Plasma_glucose_concentration         0.232771                    0.133945   \n",
       "Diastolic_blood_pressure             0.280505                    0.001036   \n",
       "Triceps_skinfold_thickness           0.536120                    0.152481   \n",
       "2h_serum_insulin                     0.189907                    0.157240   \n",
       "Body_mass_index                      1.000000                    0.153683   \n",
       "Diabetes_pedigree_function           0.153683                    1.000000   \n",
       "Age                                  0.022144                    0.031674   \n",
       "Class                                0.309884                    0.178052   \n",
       "\n",
       "                                   Age     Class  \n",
       "times_pregnant                0.545238  0.213371  \n",
       "Plasma_glucose_concentration  0.261490  0.494190  \n",
       "Diastolic_blood_pressure      0.320725  0.159447  \n",
       "Triceps_skinfold_thickness    0.025161  0.171703  \n",
       "2h_serum_insulin              0.037952  0.179849  \n",
       "Body_mass_index               0.022144  0.309884  \n",
       "Diabetes_pedigree_function    0.031674  0.178052  \n",
       "Age                           1.000000  0.232734  \n",
       "Class                         0.232734  1.000000  "
      ]
     },
     "execution_count": 12,
     "metadata": {},
     "output_type": "execute_result"
    }
   ],
   "source": [
    "pearson_correlation_matrix = data_frame.corr(method = \"pearson\")\n",
    "pearson_correlation_matrix"
   ]
  },
  {
   "cell_type": "markdown",
   "metadata": {},
   "source": [
    "We can visualize the correlations with a heatmap in order to understand them better."
   ]
  },
  {
   "cell_type": "code",
   "execution_count": 13,
   "metadata": {},
   "outputs": [
    {
     "data": {
      "image/png": "[encoded data removed]",
      "text/plain": [
       "<Figure size 432x288 with 2 Axes>"
      ]
     },
     "metadata": {
      "needs_background": "light"
     },
     "output_type": "display_data"
    }
   ],
   "source": [
    "heatmap_plot = sb.heatmap(pearson_correlation_matrix, cmap = \"YlGnBu\", annot = True)"
   ]
  },
  {
   "cell_type": "markdown",
   "metadata": {},
   "source": [
    "Considering the heatmap above, we can see that Plasma_glucose_concentration and Body_mass_index attributes have a modest correlation with the Class attribute. We can not come to a conclusion about correlation with these attributes."
   ]
  },
  {
   "cell_type": "markdown",
   "metadata": {},
   "source": [
    "# Create, Train and Evaluate a Model"
   ]
  },
  {
   "cell_type": "code",
   "execution_count": 14,
   "metadata": {},
   "outputs": [
    {
     "data": {
      "text/html": [
       "<div>\n",
       "<style scoped>\n",
       "    .dataframe tbody tr th:only-of-type {\n",
       "        vertical-align: middle;\n",
       "    }\n",
       "\n",
       "    .dataframe tbody tr th {\n",
       "        vertical-align: top;\n",
       "    }\n",
       "\n",
       "    .dataframe thead th {\n",
       "        text-align: right;\n",
       "    }\n",
       "</style>\n",
       "<table border=\"1\" class=\"dataframe\">\n",
       "  <thead>\n",
       "    <tr style=\"text-align: right;\">\n",
       "      <th></th>\n",
       "      <th>times_pregnant</th>\n",
       "      <th>Plasma_glucose_concentration</th>\n",
       "      <th>Diastolic_blood_pressure</th>\n",
       "      <th>Triceps_skinfold_thickness</th>\n",
       "      <th>2h_serum_insulin</th>\n",
       "      <th>Body_mass_index</th>\n",
       "      <th>Diabetes_pedigree_function</th>\n",
       "      <th>Age</th>\n",
       "      <th>Class</th>\n",
       "    </tr>\n",
       "  </thead>\n",
       "  <tbody>\n",
       "    <tr>\n",
       "      <th>0</th>\n",
       "      <td>6</td>\n",
       "      <td>148</td>\n",
       "      <td>72.0</td>\n",
       "      <td>35.000000</td>\n",
       "      <td>81.348404</td>\n",
       "      <td>33.6</td>\n",
       "      <td>0.627</td>\n",
       "      <td>50</td>\n",
       "      <td>1</td>\n",
       "    </tr>\n",
       "    <tr>\n",
       "      <th>1</th>\n",
       "      <td>1</td>\n",
       "      <td>85</td>\n",
       "      <td>66.0</td>\n",
       "      <td>29.000000</td>\n",
       "      <td>81.348404</td>\n",
       "      <td>26.6</td>\n",
       "      <td>0.351</td>\n",
       "      <td>31</td>\n",
       "      <td>0</td>\n",
       "    </tr>\n",
       "    <tr>\n",
       "      <th>2</th>\n",
       "      <td>8</td>\n",
       "      <td>183</td>\n",
       "      <td>64.0</td>\n",
       "      <td>20.715426</td>\n",
       "      <td>81.348404</td>\n",
       "      <td>23.3</td>\n",
       "      <td>0.672</td>\n",
       "      <td>32</td>\n",
       "      <td>1</td>\n",
       "    </tr>\n",
       "    <tr>\n",
       "      <th>3</th>\n",
       "      <td>1</td>\n",
       "      <td>89</td>\n",
       "      <td>66.0</td>\n",
       "      <td>23.000000</td>\n",
       "      <td>94.000000</td>\n",
       "      <td>28.1</td>\n",
       "      <td>0.167</td>\n",
       "      <td>21</td>\n",
       "      <td>0</td>\n",
       "    </tr>\n",
       "    <tr>\n",
       "      <th>4</th>\n",
       "      <td>0</td>\n",
       "      <td>137</td>\n",
       "      <td>40.0</td>\n",
       "      <td>35.000000</td>\n",
       "      <td>168.000000</td>\n",
       "      <td>43.1</td>\n",
       "      <td>2.288</td>\n",
       "      <td>33</td>\n",
       "      <td>1</td>\n",
       "    </tr>\n",
       "    <tr>\n",
       "      <th>...</th>\n",
       "      <td>...</td>\n",
       "      <td>...</td>\n",
       "      <td>...</td>\n",
       "      <td>...</td>\n",
       "      <td>...</td>\n",
       "      <td>...</td>\n",
       "      <td>...</td>\n",
       "      <td>...</td>\n",
       "      <td>...</td>\n",
       "    </tr>\n",
       "    <tr>\n",
       "      <th>763</th>\n",
       "      <td>10</td>\n",
       "      <td>101</td>\n",
       "      <td>76.0</td>\n",
       "      <td>48.000000</td>\n",
       "      <td>180.000000</td>\n",
       "      <td>32.9</td>\n",
       "      <td>0.171</td>\n",
       "      <td>63</td>\n",
       "      <td>0</td>\n",
       "    </tr>\n",
       "    <tr>\n",
       "      <th>764</th>\n",
       "      <td>2</td>\n",
       "      <td>122</td>\n",
       "      <td>70.0</td>\n",
       "      <td>27.000000</td>\n",
       "      <td>81.348404</td>\n",
       "      <td>36.8</td>\n",
       "      <td>0.340</td>\n",
       "      <td>27</td>\n",
       "      <td>0</td>\n",
       "    </tr>\n",
       "    <tr>\n",
       "      <th>765</th>\n",
       "      <td>5</td>\n",
       "      <td>121</td>\n",
       "      <td>72.0</td>\n",
       "      <td>23.000000</td>\n",
       "      <td>112.000000</td>\n",
       "      <td>26.2</td>\n",
       "      <td>0.245</td>\n",
       "      <td>30</td>\n",
       "      <td>0</td>\n",
       "    </tr>\n",
       "    <tr>\n",
       "      <th>766</th>\n",
       "      <td>1</td>\n",
       "      <td>126</td>\n",
       "      <td>60.0</td>\n",
       "      <td>20.715426</td>\n",
       "      <td>81.348404</td>\n",
       "      <td>30.1</td>\n",
       "      <td>0.349</td>\n",
       "      <td>47</td>\n",
       "      <td>1</td>\n",
       "    </tr>\n",
       "    <tr>\n",
       "      <th>767</th>\n",
       "      <td>1</td>\n",
       "      <td>93</td>\n",
       "      <td>70.0</td>\n",
       "      <td>31.000000</td>\n",
       "      <td>81.348404</td>\n",
       "      <td>30.4</td>\n",
       "      <td>0.315</td>\n",
       "      <td>23</td>\n",
       "      <td>0</td>\n",
       "    </tr>\n",
       "  </tbody>\n",
       "</table>\n",
       "<p>752 rows × 9 columns</p>\n",
       "</div>"
      ],
      "text/plain": [
       "     times_pregnant  Plasma_glucose_concentration  Diastolic_blood_pressure  \\\n",
       "0                 6                           148                      72.0   \n",
       "1                 1                            85                      66.0   \n",
       "2                 8                           183                      64.0   \n",
       "3                 1                            89                      66.0   \n",
       "4                 0                           137                      40.0   \n",
       "..              ...                           ...                       ...   \n",
       "763              10                           101                      76.0   \n",
       "764               2                           122                      70.0   \n",
       "765               5                           121                      72.0   \n",
       "766               1                           126                      60.0   \n",
       "767               1                            93                      70.0   \n",
       "\n",
       "     Triceps_skinfold_thickness  2h_serum_insulin  Body_mass_index  \\\n",
       "0                     35.000000         81.348404             33.6   \n",
       "1                     29.000000         81.348404             26.6   \n",
       "2                     20.715426         81.348404             23.3   \n",
       "3                     23.000000         94.000000             28.1   \n",
       "4                     35.000000        168.000000             43.1   \n",
       "..                          ...               ...              ...   \n",
       "763                   48.000000        180.000000             32.9   \n",
       "764                   27.000000         81.348404             36.8   \n",
       "765                   23.000000        112.000000             26.2   \n",
       "766                   20.715426         81.348404             30.1   \n",
       "767                   31.000000         81.348404             30.4   \n",
       "\n",
       "     Diabetes_pedigree_function  Age  Class  \n",
       "0                         0.627   50      1  \n",
       "1                         0.351   31      0  \n",
       "2                         0.672   32      1  \n",
       "3                         0.167   21      0  \n",
       "4                         2.288   33      1  \n",
       "..                          ...  ...    ...  \n",
       "763                       0.171   63      0  \n",
       "764                       0.340   27      0  \n",
       "765                       0.245   30      0  \n",
       "766                       0.349   47      1  \n",
       "767                       0.315   23      0  \n",
       "\n",
       "[752 rows x 9 columns]"
      ]
     },
     "execution_count": 14,
     "metadata": {},
     "output_type": "execute_result"
    }
   ],
   "source": [
    "data_frame"
   ]
  },
  {
   "cell_type": "code",
   "execution_count": 15,
   "metadata": {},
   "outputs": [],
   "source": [
    "data = data_frame[[\"times_pregnant\", \"Plasma_glucose_concentration\", \"Diastolic_blood_pressure\", \"Triceps_skinfold_thickness\", \"2h_serum_insulin\", \"Body_mass_index\", \"Diabetes_pedigree_function\", \"Age\"]].to_numpy()\n",
    "actual_labels = data_frame[\"Class\"].to_numpy()"
   ]
  },
  {
   "cell_type": "code",
   "execution_count": 16,
   "metadata": {},
   "outputs": [
    {
     "data": {
      "text/plain": [
       "(752, 8)"
      ]
     },
     "execution_count": 16,
     "metadata": {},
     "output_type": "execute_result"
    }
   ],
   "source": [
    "data.shape"
   ]
  },
  {
   "cell_type": "code",
   "execution_count": 17,
   "metadata": {},
   "outputs": [
    {
     "data": {
      "text/plain": [
       "(752,)"
      ]
     },
     "execution_count": 17,
     "metadata": {},
     "output_type": "execute_result"
    }
   ],
   "source": [
    "actual_labels.shape"
   ]
  },
  {
   "cell_type": "markdown",
   "metadata": {},
   "source": [
    "The model we are going to use is an SVM and we are going to train it with the K-fold cross validation technic. We create 10 folders of our initial dataset. \n",
    "For every folder:\n",
    "- One folder is the test set\n",
    "- The remaining 9 folders are the training set\n",
    "- Train the model with the current training set\n",
    "- Test the model with the current test set\n",
    "- Compute Accuracy and F1-score"
   ]
  },
  {
   "cell_type": "code",
   "execution_count": 18,
   "metadata": {},
   "outputs": [],
   "source": [
    "kf_object = KFold(n_splits = 10)\n",
    "svm_model = svm.SVC() # create SVM model\n",
    "\n",
    "accuracy_list = []\n",
    "f1_score_list = []\n",
    "for current_train_indices, current_test_indices in kf_object.split(data):\n",
    "    current_training_dataset = data[current_train_indices[0]:current_train_indices[-1]]\n",
    "    current_training_actual_labels = actual_labels[current_train_indices[0]:current_train_indices[-1]]\n",
    "    \n",
    "    current_test_dataset = data[current_test_indices[0]:current_test_indices[-1]]\n",
    "    current_test_actual_labels = actual_labels[current_test_indices[0]:current_test_indices[-1]]\n",
    "    \n",
    "    svm_model.fit(current_training_dataset, current_training_actual_labels) # Train model with current training dataset\n",
    "    current_test_predicted_labels = svm_model.predict(current_test_dataset) # Test model\n",
    "    \n",
    "    current_accuracy = accuracy_score(current_test_actual_labels, current_test_predicted_labels)\n",
    "    current_f1_score = f1_score(current_test_actual_labels, current_test_predicted_labels)\n",
    "    \n",
    "    accuracy_list.append(current_accuracy)\n",
    "    f1_score_list.append(current_f1_score)\n",
    "    "
   ]
  },
  {
   "cell_type": "code",
   "execution_count": 19,
   "metadata": {},
   "outputs": [
    {
     "name": "stdout",
     "output_type": "stream",
     "text": [
      "Mean Accuracy:  0.7682522522522524\n"
     ]
    }
   ],
   "source": [
    "accuracy_np = np.array(accuracy_list)\n",
    "print(\"Mean Accuracy: \", np.mean(accuracy_np))"
   ]
  },
  {
   "cell_type": "code",
   "execution_count": 20,
   "metadata": {},
   "outputs": [
    {
     "name": "stdout",
     "output_type": "stream",
     "text": [
      "Mean F1-score:  0.5979985105095145\n"
     ]
    }
   ],
   "source": [
    "f1_score_np = np.array(f1_score_list)\n",
    "print(\"Mean F1-score: \", np.mean(f1_score_np))"
   ]
  },
  {
   "cell_type": "markdown",
   "metadata": {},
   "source": [
    "At the end we train our model again, with the whole dataset."
   ]
  },
  {
   "cell_type": "code",
   "execution_count": 21,
   "metadata": {},
   "outputs": [
    {
     "data": {
      "text/plain": [
       "SVC(C=1.0, break_ties=False, cache_size=200, class_weight=None, coef0=0.0,\n",
       "    decision_function_shape='ovr', degree=3, gamma='scale', kernel='rbf',\n",
       "    max_iter=-1, probability=False, random_state=None, shrinking=True,\n",
       "    tol=0.001, verbose=False)"
      ]
     },
     "execution_count": 21,
     "metadata": {},
     "output_type": "execute_result"
    }
   ],
   "source": [
    "svm_model.fit(data, actual_labels) # Train model with all the data."
   ]
  },
  {
   "cell_type": "markdown",
   "metadata": {},
   "source": [
    "# Save Model"
   ]
  },
  {
   "cell_type": "code",
   "execution_count": 22,
   "metadata": {},
   "outputs": [],
   "source": [
    "# import pickle library \n",
    "import pickle # pickle used for serializing and de-serializing a Python object structure\n",
    "\n",
    "# save the model\n",
    "read_fd = open(\"model.pkl\",\"wb\") # open the file for writing\n",
    "pickle.dump(svm_model, read_fd) # dumps an object to a file object\n",
    "read_fd.close() # here we close the fileObject"
   ]
  },
  {
   "cell_type": "markdown",
   "metadata": {},
   "source": [
    "# Load Model"
   ]
  },
  {
   "cell_type": "code",
   "execution_count": 23,
   "metadata": {},
   "outputs": [
    {
     "data": {
      "text/plain": [
       "SVC(C=1.0, break_ties=False, cache_size=200, class_weight=None, coef0=0.0,\n",
       "    decision_function_shape='ovr', degree=3, gamma='scale', kernel='rbf',\n",
       "    max_iter=-1, probability=False, random_state=None, shrinking=True,\n",
       "    tol=0.001, verbose=False)"
      ]
     },
     "execution_count": 23,
     "metadata": {},
     "output_type": "execute_result"
    }
   ],
   "source": [
    "# Load the model\n",
    "load_fd = open(\"model.pkl\",\"rb\")# open the file for reading\n",
    "model = pickle.load(load_fd) # load the object from the file into new_model\n",
    "model"
   ]
  },
  {
   "cell_type": "code",
   "execution_count": 29,
   "metadata": {},
   "outputs": [
    {
     "name": "stdout",
     "output_type": "stream",
     "text": [
      "The predicted class of the observation is:  1\n"
     ]
    }
   ],
   "source": [
    "predicted_class = model.predict([[6, 148, 72.0, 35.000000, 81.348404, 33.6, 0.627, 50]])\n",
    "print(\"The predicted class of the observation is: \", predicted_class[0])"
   ]
  },
  {
   "cell_type": "code",
   "execution_count": null,
   "metadata": {},
   "outputs": [],
   "source": []
  }
 ],
 "metadata": {
  "kernelspec": {
   "display_name": "Python 3",
   "language": "python",
   "name": "python3"
  },
  "language_info": {
   "codemirror_mode": {
    "name": "ipython",
    "version": 3
   },
   "file_extension": ".py",
   "mimetype": "text/x-python",
   "name": "python",
   "nbconvert_exporter": "python",
   "pygments_lexer": "ipython3",
   "version": "3.7.6"
  }
 },
 "nbformat": 4,
 "nbformat_minor": 4
}
